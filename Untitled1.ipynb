{
 "cells": [
  {
   "cell_type": "code",
   "execution_count": 2,
   "id": "a9e6cd51-29ac-4eac-be10-6f9845cd6e39",
   "metadata": {},
   "outputs": [],
   "source": [
    "from nnm.consts import DOTS_PARSED, CONNECTIONS, ALL_CONNECTED_LINES\n",
    "from pprint import pprint"
   ]
  },
  {
   "cell_type": "code",
   "execution_count": 9,
   "id": "ddb509e0-f5ad-4be4-94fe-1db19e7c9a95",
   "metadata": {},
   "outputs": [],
   "source": [
    "conv = {dot: i for i, dot in enumerate(DOTS_PARSED)}"
   ]
  },
  {
   "cell_type": "code",
   "execution_count": 10,
   "id": "65c7c06e-12be-4f6d-ac2b-99cca1a329ba",
   "metadata": {},
   "outputs": [
    {
     "name": "stdout",
     "output_type": "stream",
     "text": [
      "{0, 1},\n",
      "{0, 9},\n",
      "{1, 2},\n",
      "{1, 4},\n",
      "{2, 14},\n",
      "{3, 4},\n",
      "{3, 10},\n",
      "{4, 5},\n",
      "{4, 7},\n",
      "{5, 13},\n",
      "{6, 7},\n",
      "{6, 11},\n",
      "{7, 8},\n",
      "{8, 12},\n",
      "{9, 10},\n",
      "{9, 21},\n",
      "{10, 11},\n",
      "{10, 18},\n",
      "{11, 15},\n",
      "{12, 13},\n",
      "{12, 17},\n",
      "{13, 14},\n",
      "{13, 20},\n",
      "{14, 23},\n",
      "{15, 16},\n",
      "{16, 17},\n",
      "{16, 19},\n",
      "{18, 19},\n",
      "{19, 20},\n",
      "{19, 22},\n",
      "{21, 22},\n",
      "{22, 23},\n"
     ]
    }
   ],
   "source": [
    "con_conv = []\n",
    "\n",
    "for con in CONNECTIONS:\n",
    "    p = [conv[dot] for dot in con]\n",
    "    p.sort()\n",
    "    con_conv.append(p)\n",
    "con_conv.sort()\n",
    "\n",
    "for line in con_conv:\n",
    "    print(f\"{{{', '.join(map(str, line))}}},\")"
   ]
  },
  {
   "cell_type": "code",
   "execution_count": 5,
   "id": "b44ff97f-25b2-4e5b-a5a0-0fad09c19125",
   "metadata": {},
   "outputs": [
    {
     "name": "stdout",
     "output_type": "stream",
     "text": [
      "{0, 1, 2},\n",
      "{0, 9, 21},\n",
      "{1, 4, 7},\n",
      "{2, 14, 23},\n",
      "{3, 4, 5},\n",
      "{3, 10, 18},\n",
      "{5, 13, 20},\n",
      "{6, 7, 8},\n",
      "{6, 11, 15},\n",
      "{8, 12, 17},\n",
      "{9, 10, 11},\n",
      "{12, 13, 14},\n",
      "{15, 16, 17},\n",
      "{16, 19, 22},\n",
      "{18, 19, 20},\n",
      "{21, 22, 23},\n"
     ]
    }
   ],
   "source": [
    "con_conv = []\n",
    "\n",
    "for con in ALL_CONNECTED_LINES:\n",
    "    p = [conv[dot] for dot in con]\n",
    "    p.sort()\n",
    "    con_conv.append(p)\n",
    "con_conv.sort()\n",
    "\n",
    "for line in con_conv:\n",
    "    print(f\"{{{', '.join(map(str, line))}}},\")"
   ]
  },
  {
   "cell_type": "code",
   "execution_count": null,
   "id": "06ccd4a1-a98d-4efa-ac56-f6c51f139888",
   "metadata": {},
   "outputs": [],
   "source": []
  },
  {
   "cell_type": "code",
   "execution_count": 6,
   "id": "e0ac7c60-8c86-4170-9d9a-f2e938c3d9ba",
   "metadata": {},
   "outputs": [
    {
     "name": "stdout",
     "output_type": "stream",
     "text": [
      "{0, {{0, 1, 2}, {0, 9, 21}}},\n",
      "{1, {{0, 1, 2}, {1, 4, 7}}},\n",
      "{2, {{0, 1, 2}, {2, 14, 23}}},\n",
      "{3, {{3, 4, 5}, {3, 10, 18}}},\n",
      "{4, {{1, 4, 7}, {3, 4, 5}}},\n",
      "{5, {{3, 4, 5}, {5, 13, 20}}},\n",
      "{6, {{6, 7, 8}, {6, 11, 15}}},\n",
      "{7, {{1, 4, 7}, {6, 7, 8}}},\n",
      "{8, {{6, 7, 8}, {8, 12, 17}}},\n",
      "{9, {{0, 9, 21}, {9, 10, 11}}},\n",
      "{10, {{3, 10, 18}, {9, 10, 11}}},\n",
      "{11, {{6, 11, 15}, {9, 10, 11}}},\n",
      "{12, {{8, 12, 17}, {12, 13, 14}}},\n",
      "{13, {{5, 13, 20}, {12, 13, 14}}},\n",
      "{14, {{2, 14, 23}, {12, 13, 14}}},\n",
      "{15, {{6, 11, 15}, {15, 16, 17}}},\n",
      "{16, {{15, 16, 17}, {16, 19, 22}}},\n",
      "{17, {{8, 12, 17}, {15, 16, 17}}},\n",
      "{18, {{3, 10, 18}, {18, 19, 20}}},\n",
      "{19, {{16, 19, 22}, {18, 19, 20}}},\n",
      "{20, {{5, 13, 20}, {18, 19, 20}}},\n",
      "{21, {{0, 9, 21}, {21, 22, 23}}},\n",
      "{22, {{16, 19, 22}, {21, 22, 23}}},\n",
      "{23, {{2, 14, 23}, {21, 22, 23}}},\n"
     ]
    }
   ],
   "source": [
    "\n",
    "m = {}\n",
    "def fix_connection(s):\n",
    "    p = [conv[dot] for dot in s]\n",
    "    p.sort()\n",
    "    return p\n",
    "\n",
    "for spot in DOTS_PARSED:\n",
    "    i = conv[spot]\n",
    "    conn = [s for s in ALL_CONNECTED_LINES if spot in s]\n",
    "    m[i] = [fix_connection(s) for s in conn]\n",
    "\n",
    "for key, value in m.items():\n",
    "\n",
    "    val_form = str(value).replace(\"[\", \"{\").replace(\"]\", \"}\")\n",
    "    print(f\"{{{key}, {val_form}}},\")"
   ]
  },
  {
   "cell_type": "code",
   "execution_count": 8,
   "id": "96c2c262-984e-4db5-8097-580bbe111800",
   "metadata": {},
   "outputs": [
    {
     "data": {
      "text/plain": [
       "[{(0, 0), (3, 0)},\n",
       " {(3, 0), (6, 0)},\n",
       " {(0, 0), (0, 3)},\n",
       " {(0, 3), (0, 6)},\n",
       " {(0, 3), (1, 3)},\n",
       " {(1, 1), (1, 3)},\n",
       " {(1, 1), (3, 1)},\n",
       " {(3, 0), (3, 1)},\n",
       " {(6, 0), (6, 3)},\n",
       " {(3, 1), (3, 2)},\n",
       " {(3, 1), (5, 1)},\n",
       " {(2, 2), (3, 2)},\n",
       " {(2, 2), (2, 3)},\n",
       " {(1, 3), (2, 3)},\n",
       " {(3, 2), (4, 2)},\n",
       " {(4, 2), (4, 3)},\n",
       " {(4, 3), (5, 3)},\n",
       " {(5, 1), (5, 3)},\n",
       " {(0, 6), (3, 6)},\n",
       " {(3, 6), (6, 6)},\n",
       " {(6, 3), (6, 6)},\n",
       " {(5, 3), (6, 3)},\n",
       " {(5, 3), (5, 5)},\n",
       " {(4, 3), (4, 4)},\n",
       " {(3, 4), (4, 4)},\n",
       " {(2, 4), (3, 4)},\n",
       " {(2, 3), (2, 4)},\n",
       " {(1, 3), (1, 5)},\n",
       " {(1, 5), (3, 5)},\n",
       " {(3, 5), (5, 5)},\n",
       " {(3, 5), (3, 6)},\n",
       " {(3, 4), (3, 5)}]"
      ]
     },
     "execution_count": 8,
     "metadata": {},
     "output_type": "execute_result"
    }
   ],
   "source": [
    "CONNECTIONS"
   ]
  },
  {
   "cell_type": "code",
   "execution_count": 14,
   "id": "c8327817-980f-45fb-afc4-0ca35a5cde39",
   "metadata": {},
   "outputs": [],
   "source": [
    "def is_connected(a, b):\n",
    "    if a > b:\n",
    "        a, b = b, a\n",
    "    return [a, b] in con_conv"
   ]
  },
  {
   "cell_type": "code",
   "execution_count": 16,
   "id": "bc40cb0c-6f68-4271-89f7-116397148a2c",
   "metadata": {},
   "outputs": [
    {
     "data": {
      "text/plain": [
       "True"
      ]
     },
     "execution_count": 16,
     "metadata": {},
     "output_type": "execute_result"
    }
   ],
   "source": [
    "is_connected(1, 0)"
   ]
  },
  {
   "cell_type": "code",
   "execution_count": 24,
   "id": "a49419d1-dc6d-4047-8e3a-c1b965892144",
   "metadata": {},
   "outputs": [
    {
     "data": {
      "text/plain": [
       "[[0, 1],\n",
       " [0, 9],\n",
       " [1, 2],\n",
       " [1, 4],\n",
       " [2, 14],\n",
       " [3, 4],\n",
       " [3, 10],\n",
       " [4, 5],\n",
       " [4, 7],\n",
       " [5, 13],\n",
       " [6, 7],\n",
       " [6, 11],\n",
       " [7, 8],\n",
       " [8, 12],\n",
       " [9, 10],\n",
       " [9, 21],\n",
       " [10, 11],\n",
       " [10, 18],\n",
       " [11, 15],\n",
       " [12, 13],\n",
       " [12, 17],\n",
       " [13, 14],\n",
       " [13, 20],\n",
       " [14, 23],\n",
       " [15, 16],\n",
       " [16, 17],\n",
       " [16, 19],\n",
       " [18, 19],\n",
       " [19, 20],\n",
       " [19, 22],\n",
       " [21, 22],\n",
       " [22, 23]]"
      ]
     },
     "execution_count": 24,
     "metadata": {},
     "output_type": "execute_result"
    }
   ],
   "source": [
    "con_conv"
   ]
  },
  {
   "cell_type": "code",
   "execution_count": 25,
   "id": "46c4e9a6-742e-4ed0-a0b6-d5231bd686ac",
   "metadata": {},
   "outputs": [],
   "source": [
    "all_spot_cons = {s1: [s2 for s2 in range(24) if is_connected(s1, s2)] for s1 in range(24)}"
   ]
  },
  {
   "cell_type": "code",
   "execution_count": 34,
   "id": "bac81d99-5335-4f95-ba84-6fee5f2ad73f",
   "metadata": {},
   "outputs": [
    {
     "name": "stdout",
     "output_type": "stream",
     "text": [
      "{1, 9},             //\n",
      "{0, 2, 4},          //\n",
      "{1, 14},            //\n",
      "{4, 10},            //\n",
      "{1, 3, 5, 7},       //\n",
      "{4, 13},            //\n",
      "{7, 11},            //\n",
      "{4, 6, 8},          //\n",
      "{7, 12},            //\n",
      "{0, 10, 21},        //\n",
      "{3, 9, 11, 18},     //\n",
      "{6, 10, 15},        //\n",
      "{8, 13, 17},        //\n",
      "{5, 12, 14, 20},    //\n",
      "{2, 13, 23},        //\n",
      "{11, 16},           //\n",
      "{15, 17, 19},       //\n",
      "{12, 16},           //\n",
      "{10, 19},           //\n",
      "{16, 18, 20, 22},   //\n",
      "{13, 19},           //\n",
      "{9, 22},            //\n",
      "{19, 21, 23},       //\n",
      "{14, 22},           //\n"
     ]
    }
   ],
   "source": [
    "for conn in all_spot_cons.values():\n",
    "    val_form = str(conn).replace(\"[\", \"{\").replace(\"]\", \"}\")\n",
    "    val_form += \",\"\n",
    "    print(f\"{val_form:<20}//\")"
   ]
  }
 ],
 "metadata": {
  "kernelspec": {
   "display_name": "Python 3 (ipykernel)",
   "language": "python",
   "name": "python3"
  },
  "language_info": {
   "codemirror_mode": {
    "name": "ipython",
    "version": 3
   },
   "file_extension": ".py",
   "mimetype": "text/x-python",
   "name": "python",
   "nbconvert_exporter": "python",
   "pygments_lexer": "ipython3",
   "version": "3.11.5"
  }
 },
 "nbformat": 4,
 "nbformat_minor": 5
}
